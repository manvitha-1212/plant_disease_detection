{
 "cells": [
  {
   "cell_type": "code",
   "execution_count": 1,
   "metadata": {},
   "outputs": [],
   "source": [
    "\n",
    "import tensorflow as tf\n",
    "import matplotlib.pyplot as plt\n",
    "import os,sys\n",
    "%matplotlib inline\n",
    "from tensorflow.keras.preprocessing.image import ImageDataGenerator\n",
    "from tensorflow.keras.layers import Dense, Input, Flatten, Dropout, Conv2D\n",
    "from tensorflow.keras.layers import BatchNormalization, Activation, MaxPooling2D\n",
    "from tensorflow.keras.models import Model\n",
    "from tensorflow.keras.optimizers import Adam\n",
    "from tensorflow.keras.callbacks import ModelCheckpoint, ReduceLROnPlateau\n",
    "from tensorflow.keras.utils import plot_model\n",
    "from IPython.display import SVG, Image\n",
    "\n",
    "from tensorflow.keras.models import Sequential\n",
    " "
   ]
  },
  {
   "cell_type": "code",
   "execution_count": 2,
   "metadata": {},
   "outputs": [
    {
     "name": "stdout",
     "output_type": "stream",
     "text": [
      "Apple___Apple_scab\n",
      "Apple___Black_rot\n",
      "Apple___Cedar_apple_rust\n",
      "Apple___healthy\n",
      "Background_without_leaves\n",
      "Blueberry___healthy\n",
      "Cherry___healthy\n",
      "Cherry___Powdery_mildew\n",
      "Corn___Cercospora_leaf_spot Gray_leaf_spot\n",
      "Corn___Common_rust\n",
      "Corn___healthy\n",
      "Corn___Northern_Leaf_Blight\n",
      "Grape___Black_rot\n",
      "Grape___Esca_(Black_Measles)\n",
      "Grape___healthy\n",
      "Grape___Leaf_blight_(Isariopsis_Leaf_Spot)\n",
      "Orange___Haunglongbing_(Citrus_greening)\n",
      "Peach___Bacterial_spot\n",
      "Peach___healthy\n",
      "Pepper,_bell___Bacterial_spot\n",
      "Pepper,_bell___healthy\n",
      "Potato___Early_blight\n",
      "Potato___healthy\n",
      "Potato___Late_blight\n",
      "Raspberry___healthy\n",
      "Soybean___healthy\n",
      "Squash___Powdery_mildew\n",
      "Strawberry___healthy\n",
      "Strawberry___Leaf_scorch\n",
      "Tomato___Bacterial_spot\n",
      "Tomato___Early_blight\n",
      "Tomato___healthy\n",
      "Tomato___Late_blight\n",
      "Tomato___Leaf_Mold\n",
      "Tomato___Septoria_leaf_spot\n",
      "Tomato___Spider_mites Two-spotted_spider_mite\n",
      "Tomato___Target_Spot\n",
      "Tomato___Tomato_mosaic_virus\n",
      "Tomato___Tomato_Yellow_Leaf_Curl_Virus\n"
     ]
    }
   ],
   "source": [
    "dir=os.listdir(\"C://Users//Manvitha R G//Desktop//plant_disease//Plant_leave_diseases_dataset_without_augmentation\")\n",
    "for expression in dir:\n",
    "     print(expression);"
   ]
  },
  {
   "cell_type": "code",
   "execution_count": 3,
   "metadata": {
    "scrolled": true
   },
   "outputs": [
    {
     "name": "stdout",
     "output_type": "stream",
     "text": [
      "Found 42312 images belonging to 39 classes.\n",
      "Found 14413 images belonging to 39 classes.\n"
     ]
    }
   ],
   "source": [
    "img_size=48\n",
    "batch_size=64\n",
    "datagen_train=ImageDataGenerator(horizontal_flip=True)\n",
    "train_generator=datagen_train.flow_from_directory(\"C://Users//Manvitha R G//Desktop//plant_disease//Plant_leave_diseases_dataset_without_augmentation\",target_size=\n",
    "(48,48), batch_size=batch_size, class_mode='categorical', shuffle=True)\n",
    "\n",
    "datagen_validation=ImageDataGenerator(horizontal_flip=True)\n",
    "\n",
    "validation_generator=datagen_train.flow_from_directory(\"C://Users//Manvitha R G//Desktop//plant_disease//testing\",target_size=\n",
    "(48,48), batch_size=batch_size, class_mode='categorical', shuffle=True)"
   ]
  },
  {
   "cell_type": "code",
   "execution_count": 4,
   "metadata": {},
   "outputs": [],
   "source": [
    "model=Sequential()\n",
    "#conv-1\n",
    "model.add(Conv2D(64,(3,3), padding='same', input_shape= (48,48,3)))\n",
    "model.add(BatchNormalization())\n",
    "model.add(Activation('relu'))\n",
    "model.add(MaxPooling2D(pool_size=(2,2)))\n",
    "model.add(Dropout(0.25))\n",
    "#conv-2\n",
    "model.add(Conv2D(128,(5,5), padding='same', input_shape= (48,48,3)))\n",
    "model.add(BatchNormalization())\n",
    "model.add(Activation('relu'))\n",
    "model.add(MaxPooling2D(pool_size=(2,2)))\n",
    "model.add(Dropout(0.25))\n",
    "#conv-3\n",
    "model.add(Conv2D(512,(3,3), padding='same', input_shape= (48,48,3)))\n",
    "model.add(BatchNormalization())\n",
    "model.add(Activation('relu'))\n",
    "model.add(MaxPooling2D(pool_size=(2,2)))\n",
    "model.add(Dropout(0.25))\n",
    "#conv-4\n",
    "model.add(Conv2D(512,(3,3), padding='same', input_shape= (48,48,3)))\n",
    "model.add(BatchNormalization())\n",
    "model.add(Activation('relu'))\n",
    "model.add(MaxPooling2D(pool_size=(2,2)))\n",
    "model.add(Dropout(0.25))\n",
    "\n",
    "#conv-5\n",
    "model.add(Conv2D(512,(3,3), padding='same', input_shape= (48,48,3)))\n",
    "model.add(BatchNormalization())\n",
    "model.add(Activation('relu'))\n",
    "model.add(MaxPooling2D(pool_size=(2,2)))\n",
    "model.add(Dropout(0.25))\n",
    "\n",
    "\n",
    "model.add(Flatten())\n",
    "model.add(Dense(256))\n",
    "model.add(BatchNormalization())\n",
    "model.add(Activation('relu'))\n",
    "model.add(Dropout(0.25))\n",
    "model.add(Dense(512))\n",
    "model.add(BatchNormalization())\n",
    "model.add(Activation('relu'))\n",
    "model.add(Dropout(0.25))\n",
    "\n",
    "model.add(Dense(39, activation='softmax'))\n",
    "opt=Adam(lr=0.0005)"
   ]
  },
  {
   "cell_type": "code",
   "execution_count": 5,
   "metadata": {
    "scrolled": true
   },
   "outputs": [
    {
     "name": "stdout",
     "output_type": "stream",
     "text": [
      "Model: \"sequential\"\n",
      "_________________________________________________________________\n",
      "Layer (type)                 Output Shape              Param #   \n",
      "=================================================================\n",
      "conv2d (Conv2D)              (None, 48, 48, 64)        1792      \n",
      "_________________________________________________________________\n",
      "batch_normalization (BatchNo (None, 48, 48, 64)        256       \n",
      "_________________________________________________________________\n",
      "activation (Activation)      (None, 48, 48, 64)        0         \n",
      "_________________________________________________________________\n",
      "max_pooling2d (MaxPooling2D) (None, 24, 24, 64)        0         \n",
      "_________________________________________________________________\n",
      "dropout (Dropout)            (None, 24, 24, 64)        0         \n",
      "_________________________________________________________________\n",
      "conv2d_1 (Conv2D)            (None, 24, 24, 128)       204928    \n",
      "_________________________________________________________________\n",
      "batch_normalization_1 (Batch (None, 24, 24, 128)       512       \n",
      "_________________________________________________________________\n",
      "activation_1 (Activation)    (None, 24, 24, 128)       0         \n",
      "_________________________________________________________________\n",
      "max_pooling2d_1 (MaxPooling2 (None, 12, 12, 128)       0         \n",
      "_________________________________________________________________\n",
      "dropout_1 (Dropout)          (None, 12, 12, 128)       0         \n",
      "_________________________________________________________________\n",
      "conv2d_2 (Conv2D)            (None, 12, 12, 512)       590336    \n",
      "_________________________________________________________________\n",
      "batch_normalization_2 (Batch (None, 12, 12, 512)       2048      \n",
      "_________________________________________________________________\n",
      "activation_2 (Activation)    (None, 12, 12, 512)       0         \n",
      "_________________________________________________________________\n",
      "max_pooling2d_2 (MaxPooling2 (None, 6, 6, 512)         0         \n",
      "_________________________________________________________________\n",
      "dropout_2 (Dropout)          (None, 6, 6, 512)         0         \n",
      "_________________________________________________________________\n",
      "conv2d_3 (Conv2D)            (None, 6, 6, 512)         2359808   \n",
      "_________________________________________________________________\n",
      "batch_normalization_3 (Batch (None, 6, 6, 512)         2048      \n",
      "_________________________________________________________________\n",
      "activation_3 (Activation)    (None, 6, 6, 512)         0         \n",
      "_________________________________________________________________\n",
      "max_pooling2d_3 (MaxPooling2 (None, 3, 3, 512)         0         \n",
      "_________________________________________________________________\n",
      "dropout_3 (Dropout)          (None, 3, 3, 512)         0         \n",
      "_________________________________________________________________\n",
      "conv2d_4 (Conv2D)            (None, 3, 3, 512)         2359808   \n",
      "_________________________________________________________________\n",
      "batch_normalization_4 (Batch (None, 3, 3, 512)         2048      \n",
      "_________________________________________________________________\n",
      "activation_4 (Activation)    (None, 3, 3, 512)         0         \n",
      "_________________________________________________________________\n",
      "max_pooling2d_4 (MaxPooling2 (None, 1, 1, 512)         0         \n",
      "_________________________________________________________________\n",
      "dropout_4 (Dropout)          (None, 1, 1, 512)         0         \n",
      "_________________________________________________________________\n",
      "flatten (Flatten)            (None, 512)               0         \n",
      "_________________________________________________________________\n",
      "dense (Dense)                (None, 256)               131328    \n",
      "_________________________________________________________________\n",
      "batch_normalization_5 (Batch (None, 256)               1024      \n",
      "_________________________________________________________________\n",
      "activation_5 (Activation)    (None, 256)               0         \n",
      "_________________________________________________________________\n",
      "dropout_5 (Dropout)          (None, 256)               0         \n",
      "_________________________________________________________________\n",
      "dense_1 (Dense)              (None, 512)               131584    \n",
      "_________________________________________________________________\n",
      "batch_normalization_6 (Batch (None, 512)               2048      \n",
      "_________________________________________________________________\n",
      "activation_6 (Activation)    (None, 512)               0         \n",
      "_________________________________________________________________\n",
      "dropout_6 (Dropout)          (None, 512)               0         \n",
      "_________________________________________________________________\n",
      "dense_2 (Dense)              (None, 39)                20007     \n",
      "=================================================================\n",
      "Total params: 5,809,575\n",
      "Trainable params: 5,804,583\n",
      "Non-trainable params: 4,992\n",
      "_________________________________________________________________\n"
     ]
    }
   ],
   "source": [
    "model.compile(optimizer=opt, loss='categorical_crossentropy', metrics=['accuracy'])\n",
    "model.summary()"
   ]
  },
  {
   "cell_type": "code",
   "execution_count": 6,
   "metadata": {},
   "outputs": [
    {
     "name": "stdout",
     "output_type": "stream",
     "text": [
      "Epoch 1/15\n",
      "661/661 [==============================] - 1598s 2s/step - loss: 2.0022 - accuracy: 0.4651 - val_loss: 1.4889 - val_accuracy: 0.5701\n",
      "Epoch 2/15\n",
      "661/661 [==============================] - 1732s 3s/step - loss: 0.6957 - accuracy: 0.7808 - val_loss: 0.8258 - val_accuracy: 0.7753\n",
      "Epoch 3/15\n",
      "661/661 [==============================] - 1684s 3s/step - loss: 0.4638 - accuracy: 0.8534 - val_loss: 1.0735 - val_accuracy: 0.7254\n",
      "Epoch 4/15\n",
      "661/661 [==============================] - 1549s 2s/step - loss: 0.3468 - accuracy: 0.8897 - val_loss: 0.6926 - val_accuracy: 0.8353\n",
      "Epoch 5/15\n",
      "661/661 [==============================] - 1358s 2s/step - loss: 0.2867 - accuracy: 0.9064 - val_loss: 0.8301 - val_accuracy: 0.7911\n",
      "Epoch 6/15\n",
      "661/661 [==============================] - 1253s 2s/step - loss: 0.2420 - accuracy: 0.9200 - val_loss: 0.8403 - val_accuracy: 0.8302\n",
      "Epoch 7/15\n",
      "661/661 [==============================] - 2396s 4s/step - loss: 0.2116 - accuracy: 0.9310 - val_loss: 0.6149 - val_accuracy: 0.8867\n",
      "Epoch 8/15\n",
      "661/661 [==============================] - 2007s 3s/step - loss: 0.1875 - accuracy: 0.9392 - val_loss: 1.7321 - val_accuracy: 0.6118\n",
      "Epoch 9/15\n",
      "661/661 [==============================] - 2062s 3s/step - loss: 0.1702 - accuracy: 0.9449 - val_loss: 1.0646 - val_accuracy: 0.7489\n",
      "Epoch 10/15\n",
      "661/661 [==============================] - 1974s 3s/step - loss: 0.1599 - accuracy: 0.9466 - val_loss: 0.6068 - val_accuracy: 0.8887\n",
      "Epoch 11/15\n",
      "661/661 [==============================] - 1974s 3s/step - loss: 0.1418 - accuracy: 0.9548 - val_loss: 0.6173 - val_accuracy: 0.9153\n",
      "Epoch 12/15\n",
      "661/661 [==============================] - 1979s 3s/step - loss: 0.1304 - accuracy: 0.9570 - val_loss: 0.5672 - val_accuracy: 0.9183\n",
      "Epoch 13/15\n",
      "661/661 [==============================] - 1954s 3s/step - loss: 0.1277 - accuracy: 0.9590 - val_loss: 1.9042 - val_accuracy: 0.6172\n",
      "Epoch 14/15\n",
      "661/661 [==============================] - 1930s 3s/step - loss: 0.1112 - accuracy: 0.9630 - val_loss: 0.6444 - val_accuracy: 0.8943\n",
      "Epoch 15/15\n",
      "661/661 [==============================] - 1856s 3s/step - loss: 0.0964 - accuracy: 0.9684 - val_loss: 0.6844 - val_accuracy: 0.9021\n"
     ]
    }
   ],
   "source": [
    "epochs=15\n",
    "steps_per_epoch=train_generator.n//train_generator.batch_size\n",
    "steps_per_epoch\n",
    "validation_steps=validation_generator.n//validation_generator.batch_size\n",
    "checkpoint=ModelCheckpoint(\"model_weights.h5\", monitor=\"val_accuracy\", save_weights_only=True, model='max', verbose=1)\n",
    "reduce_lr = ReduceLROnPlateau(monitor = 'val_loss', factor=0.1, patience=2, min_lr= 0.00001, model= 'auto')\n",
    "\n",
    "history= model.fit(x=train_generator,steps_per_epoch=steps_per_epoch,epochs=epochs,validation_data=validation_generator,validation_steps=validation_steps)\n",
    "\n",
    "#saving the model\n",
    "model.save('my_disease.h5')"
   ]
  },
  {
   "cell_type": "code",
   "execution_count": 8,
   "metadata": {},
   "outputs": [],
   "source": [
    "\n"
   ]
  },
  {
   "cell_type": "code",
   "execution_count": null,
   "metadata": {},
   "outputs": [],
   "source": []
  },
  {
   "cell_type": "code",
   "execution_count": null,
   "metadata": {},
   "outputs": [],
   "source": []
  }
 ],
 "metadata": {
  "kernelspec": {
   "display_name": "Python 3",
   "language": "python",
   "name": "python3"
  },
  "language_info": {
   "codemirror_mode": {
    "name": "ipython",
    "version": 3
   },
   "file_extension": ".py",
   "mimetype": "text/x-python",
   "name": "python",
   "nbconvert_exporter": "python",
   "pygments_lexer": "ipython3",
   "version": "3.7.6"
  }
 },
 "nbformat": 4,
 "nbformat_minor": 4
}
